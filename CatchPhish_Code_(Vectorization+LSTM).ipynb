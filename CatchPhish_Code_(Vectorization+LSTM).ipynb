{
  "nbformat": 4,
  "nbformat_minor": 0,
  "metadata": {
    "colab": {
      "name": "FYP II Final Code (Vectorization+LSTM).ipynb",
      "provenance": [],
      "collapsed_sections": [],
      "toc_visible": true
    },
    "kernelspec": {
      "name": "python3",
      "display_name": "Python 3"
    },
    "accelerator": "GPU"
  },
  "cells": [
    {
      "cell_type": "code",
      "metadata": {
        "id": "qLEt0Y9cFEC6",
        "colab_type": "code",
        "colab": {}
      },
      "source": [
        "%tensorflow_version 1.x"
      ],
      "execution_count": 0,
      "outputs": []
    },
    {
      "cell_type": "code",
      "metadata": {
        "id": "Ev3408gZyJSu",
        "colab_type": "code",
        "outputId": "7e892c29-c6bb-4a9c-f7f9-439a59bfbbc2",
        "colab": {
          "base_uri": "https://localhost:8080/",
          "height": 70
        }
      },
      "source": [
        "import pandas as pd\n",
        "import numpy as np\n",
        "import random\n",
        "from sklearn.model_selection import train_test_split\n",
        "from nltk.tokenize import sent_tokenize, word_tokenize \n",
        "from numpy import array\n",
        "from tensorflow.keras.models import Sequential\n",
        "from tensorflow.keras.layers import Dense\n",
        "from keras.layers import Flatten\n",
        "from keras.layers.embeddings import Embedding\n",
        "from keras.layers import Dropout\n",
        "import warnings \n",
        "from sklearn import datasets, linear_model\n",
        "from urllib.parse import urlparse\n",
        "import re\n",
        "warnings.filterwarnings(action = 'ignore') \n",
        "  \n",
        "import gensim \n",
        "from gensim.models import Word2Vec \n",
        "\n",
        "import nltk\n",
        "nltk.download('punkt')"
      ],
      "execution_count": 0,
      "outputs": [
        {
          "output_type": "stream",
          "text": [
            "[nltk_data] Downloading package punkt to /root/nltk_data...\n",
            "[nltk_data]   Package punkt is already up-to-date!\n"
          ],
          "name": "stdout"
        },
        {
          "output_type": "execute_result",
          "data": {
            "text/plain": [
              "True"
            ]
          },
          "metadata": {
            "tags": []
          },
          "execution_count": 60
        }
      ]
    },
    {
      "cell_type": "code",
      "metadata": {
        "id": "ZZ1CjDA6yKXw",
        "colab_type": "code",
        "colab": {}
      },
      "source": [
        "allurlcsv = pd.read_csv(\"dataset.csv\")\n",
        "allurlsdata = pd.DataFrame(allurlcsv)"
      ],
      "execution_count": 0,
      "outputs": []
    },
    {
      "cell_type": "code",
      "metadata": {
        "id": "hBjglkXeyKaR",
        "colab_type": "code",
        "colab": {}
      },
      "source": [
        "allurlsdata.replace(('benign', 'malicious'), (1, 0), inplace=True)\n",
        "urls= allurlsdata['url']\n",
        "\n",
        "urls= urls\n",
        "labels = allurlsdata['label']\n",
        "labels=labels\n"
      ],
      "execution_count": 0,
      "outputs": []
    },
    {
      "cell_type": "code",
      "metadata": {
        "id": "_2uMjP_Vaiqq",
        "colab_type": "code",
        "outputId": "f28fd7c1-6d2b-4abc-cb99-d7b341239077",
        "colab": {
          "base_uri": "https://localhost:8080/",
          "height": 52
        }
      },
      "source": [
        "count1=0\n",
        "count0=0\n",
        "for i in labels:\n",
        "  if i ==1:\n",
        "    count1+=1\n",
        "  if i ==0:\n",
        "    count0+=1\n",
        "\n",
        "print (count1,\" \", count0,\" \", count1+count0)\n",
        "print (allurlsdata.shape)"
      ],
      "execution_count": 0,
      "outputs": [
        {
          "output_type": "stream",
          "text": [
            "345738   104438   450176\n",
            "(450176, 2)\n"
          ],
          "name": "stdout"
        }
      ]
    },
    {
      "cell_type": "code",
      "metadata": {
        "id": "1DWp-r7dyKc8",
        "colab_type": "code",
        "colab": {}
      },
      "source": [
        "NewdataSet=[]\n",
        "inc=0\n",
        "for i in urls:\n",
        "  temp = re.split(r'[/?#_.-]', urls[inc])\n",
        "  #temp = urls[inc].split('.')\n",
        "  #temp=getTokens(urls[inc])\n",
        "  NewdataSet.append(temp)\n",
        "  inc=inc+1"
      ],
      "execution_count": 0,
      "outputs": []
    },
    {
      "cell_type": "code",
      "metadata": {
        "id": "mfgw3dYkyBsU",
        "colab_type": "code",
        "outputId": "eaf896e2-e5bc-4b4d-e363-49d1930e9029",
        "colab": {
          "base_uri": "https://localhost:8080/",
          "height": 34
        }
      },
      "source": [
        "print (NewdataSet[0])"
      ],
      "execution_count": 0,
      "outputs": [
        {
          "output_type": "stream",
          "text": [
            "['https:', '', 'www', 'manta', 'com', 'c', 'mm5l7zp', 'oakland', 'durant', 'rockridge', 'mason']\n"
          ],
          "name": "stdout"
        }
      ]
    },
    {
      "cell_type": "code",
      "metadata": {
        "id": "UQ2Tg6MXTS8U",
        "colab_type": "code",
        "outputId": "5c70759e-62aa-45b2-b8f0-e16bbfefb484",
        "colab": {
          "base_uri": "https://localhost:8080/",
          "height": 424
        }
      },
      "source": [
        "#!pip install pytorch-pretrained-bert\n",
        "#  this is bulllshit rn xD"
      ],
      "execution_count": 0,
      "outputs": [
        {
          "output_type": "stream",
          "text": [
            "Collecting pytorch-pretrained-bert\n",
            "\u001b[?25l  Downloading https://files.pythonhosted.org/packages/d7/e0/c08d5553b89973d9a240605b9c12404bcf8227590de62bae27acbcfe076b/pytorch_pretrained_bert-0.6.2-py3-none-any.whl (123kB)\n",
            "\r\u001b[K     |██▋                             | 10kB 16.5MB/s eta 0:00:01\r\u001b[K     |█████▎                          | 20kB 1.7MB/s eta 0:00:01\r\u001b[K     |████████                        | 30kB 2.2MB/s eta 0:00:01\r\u001b[K     |██████████▋                     | 40kB 2.5MB/s eta 0:00:01\r\u001b[K     |█████████████▎                  | 51kB 2.0MB/s eta 0:00:01\r\u001b[K     |███████████████▉                | 61kB 2.2MB/s eta 0:00:01\r\u001b[K     |██████████████████▌             | 71kB 2.5MB/s eta 0:00:01\r\u001b[K     |█████████████████████▏          | 81kB 2.7MB/s eta 0:00:01\r\u001b[K     |███████████████████████▉        | 92kB 2.9MB/s eta 0:00:01\r\u001b[K     |██████████████████████████▌     | 102kB 2.7MB/s eta 0:00:01\r\u001b[K     |█████████████████████████████▏  | 112kB 2.7MB/s eta 0:00:01\r\u001b[K     |███████████████████████████████▊| 122kB 2.7MB/s eta 0:00:01\r\u001b[K     |████████████████████████████████| 133kB 2.7MB/s \n",
            "\u001b[?25hRequirement already satisfied: torch>=0.4.1 in /usr/local/lib/python3.6/dist-packages (from pytorch-pretrained-bert) (1.5.0+cu101)\n",
            "Requirement already satisfied: numpy in /usr/local/lib/python3.6/dist-packages (from pytorch-pretrained-bert) (1.18.3)\n",
            "Requirement already satisfied: tqdm in /usr/local/lib/python3.6/dist-packages (from pytorch-pretrained-bert) (4.38.0)\n",
            "Requirement already satisfied: requests in /usr/local/lib/python3.6/dist-packages (from pytorch-pretrained-bert) (2.21.0)\n",
            "Requirement already satisfied: regex in /usr/local/lib/python3.6/dist-packages (from pytorch-pretrained-bert) (2019.12.20)\n",
            "Requirement already satisfied: boto3 in /usr/local/lib/python3.6/dist-packages (from pytorch-pretrained-bert) (1.12.46)\n",
            "Requirement already satisfied: future in /usr/local/lib/python3.6/dist-packages (from torch>=0.4.1->pytorch-pretrained-bert) (0.16.0)\n",
            "Requirement already satisfied: idna<2.9,>=2.5 in /usr/local/lib/python3.6/dist-packages (from requests->pytorch-pretrained-bert) (2.8)\n",
            "Requirement already satisfied: certifi>=2017.4.17 in /usr/local/lib/python3.6/dist-packages (from requests->pytorch-pretrained-bert) (2020.4.5.1)\n",
            "Requirement already satisfied: chardet<3.1.0,>=3.0.2 in /usr/local/lib/python3.6/dist-packages (from requests->pytorch-pretrained-bert) (3.0.4)\n",
            "Requirement already satisfied: urllib3<1.25,>=1.21.1 in /usr/local/lib/python3.6/dist-packages (from requests->pytorch-pretrained-bert) (1.24.3)\n",
            "Requirement already satisfied: s3transfer<0.4.0,>=0.3.0 in /usr/local/lib/python3.6/dist-packages (from boto3->pytorch-pretrained-bert) (0.3.3)\n",
            "Requirement already satisfied: botocore<1.16.0,>=1.15.46 in /usr/local/lib/python3.6/dist-packages (from boto3->pytorch-pretrained-bert) (1.15.46)\n",
            "Requirement already satisfied: jmespath<1.0.0,>=0.7.1 in /usr/local/lib/python3.6/dist-packages (from boto3->pytorch-pretrained-bert) (0.9.5)\n",
            "Requirement already satisfied: python-dateutil<3.0.0,>=2.1 in /usr/local/lib/python3.6/dist-packages (from botocore<1.16.0,>=1.15.46->boto3->pytorch-pretrained-bert) (2.8.1)\n",
            "Requirement already satisfied: docutils<0.16,>=0.10 in /usr/local/lib/python3.6/dist-packages (from botocore<1.16.0,>=1.15.46->boto3->pytorch-pretrained-bert) (0.15.2)\n",
            "Requirement already satisfied: six>=1.5 in /usr/local/lib/python3.6/dist-packages (from python-dateutil<3.0.0,>=2.1->botocore<1.16.0,>=1.15.46->boto3->pytorch-pretrained-bert) (1.12.0)\n",
            "Installing collected packages: pytorch-pretrained-bert\n",
            "Successfully installed pytorch-pretrained-bert-0.6.2\n"
          ],
          "name": "stdout"
        }
      ]
    },
    {
      "cell_type": "code",
      "metadata": {
        "id": "PuPAbd5GS6M9",
        "colab_type": "code",
        "outputId": "69bc9722-e73b-4314-acd6-81e7c0845181",
        "colab": {
          "base_uri": "https://localhost:8080/",
          "height": 34
        }
      },
      "source": [
        "'''\n",
        "import torch\n",
        "from pytorch_pretrained_bert import BertTokenizer, BertModel, BertForMaskedLM\n",
        "# OPTIONAL: if you want to have more information on what's happening, activate the logger as follows\n",
        "import logging\n",
        "#logging.basicConfig(level=logging.INFO)\n",
        "import matplotlib.pyplot as plt\n",
        "% matplotlib inline\n",
        "# Load pre-trained model tokenizer (vocabulary)\n",
        "tokenizer = BertTokenizer.from_pretrained('bert-base-uncased')\n",
        "'''"
      ],
      "execution_count": 0,
      "outputs": [
        {
          "output_type": "stream",
          "text": [
            "100%|██████████| 231508/231508 [00:00<00:00, 313574.85B/s]\n"
          ],
          "name": "stderr"
        }
      ]
    },
    {
      "cell_type": "code",
      "metadata": {
        "id": "nCdibQ6byKfG",
        "colab_type": "code",
        "outputId": "94dc3e73-146c-40b7-8011-f0fa3190db0f",
        "colab": {
          "base_uri": "https://localhost:8080/",
          "height": 70
        }
      },
      "source": [
        "X_train, X_test, y_train, y_test = train_test_split(NewdataSet, labels, test_size=0.2)\n",
        "# print (X_train ,y_train)\n",
        "print (np.array(X_train).shape, np.array(y_train).shape)\n",
        "\n",
        "print(len(X_test))\n",
        "print (len(y_test))"
      ],
      "execution_count": 0,
      "outputs": [
        {
          "output_type": "stream",
          "text": [
            "(360140,) (360140,)\n",
            "90036\n",
            "90036\n"
          ],
          "name": "stdout"
        }
      ]
    },
    {
      "cell_type": "code",
      "metadata": {
        "id": "8OXAAZKXyKhZ",
        "colab_type": "code",
        "colab": {}
      },
      "source": [
        "modelvector = gensim.models.Word2Vec(X_train, min_count = 1, size = 100, window = 5, sg = 1,workers =8)\n",
        "modelvectortest = gensim.models.Word2Vec(X_test, min_count = 1, size = 100, window = 5, sg = 1,workers =8)"
      ],
      "execution_count": 0,
      "outputs": []
    },
    {
      "cell_type": "code",
      "metadata": {
        "id": "hqtUkToF1ybZ",
        "colab_type": "code",
        "outputId": "46e21162-6858-4409-b1f7-921a84ab20f5",
        "colab": {
          "base_uri": "https://localhost:8080/",
          "height": 386
        }
      },
      "source": [
        "modelvector.wv[\"www\"]"
      ],
      "execution_count": 0,
      "outputs": [
        {
          "output_type": "execute_result",
          "data": {
            "text/plain": [
              "array([ 0.42393222,  1.1485606 ,  0.213014  ,  0.8557657 ,  0.7298924 ,\n",
              "        0.36959904,  0.39970717,  0.46873748,  0.4974297 ,  0.2484271 ,\n",
              "       -0.33176363, -0.29304263, -1.2087067 ,  0.77207375,  0.01169918,\n",
              "       -0.09167103,  0.9936276 ,  0.7108558 ,  0.12517841,  0.04605875,\n",
              "        0.37057653, -0.23862663,  0.29127216,  0.24998915,  0.2658815 ,\n",
              "        0.51182926, -0.12964584,  0.07308665, -0.5912335 ,  0.11530853,\n",
              "        0.7910765 , -0.34097394,  0.6099328 ,  0.06554966,  0.6013811 ,\n",
              "        0.23953104, -1.1123054 , -0.10510845,  0.35310572,  0.51563936,\n",
              "        0.6758655 , -0.59538674, -0.57320803,  0.09725108,  1.4429013 ,\n",
              "       -0.18300246,  0.17297848, -0.07263404,  0.58732873,  0.09192385,\n",
              "        0.2450387 ,  0.7351587 ,  1.1750369 , -0.20377114, -0.8427031 ,\n",
              "       -0.69786716,  0.03570656,  0.5558317 ,  0.5485922 , -0.5816495 ,\n",
              "       -0.9287901 , -0.07268063, -0.38633052,  0.41280204, -0.16479206,\n",
              "       -0.00413173, -0.32759893, -0.45207322,  0.44232255,  0.01795394,\n",
              "       -0.14844134,  0.09329893, -0.7226795 , -0.59261143, -0.43168935,\n",
              "        0.3376582 , -0.32056865,  0.07957386,  0.11741687, -0.261696  ,\n",
              "        0.37080258, -0.13721143,  0.6250938 , -0.08149542,  0.2899211 ,\n",
              "       -0.51407886, -0.40648073,  0.50511134,  0.27489388, -0.20279144,\n",
              "        0.577577  ,  0.05357171,  0.21833245, -0.82029045, -0.65758944,\n",
              "       -0.80888885,  0.68466336,  0.4529783 , -0.10300037,  0.29960647],\n",
              "      dtype=float32)"
            ]
          },
          "metadata": {
            "tags": []
          },
          "execution_count": 67
        }
      ]
    },
    {
      "cell_type": "code",
      "metadata": {
        "id": "GCdQj2TUyaZ4",
        "colab_type": "code",
        "outputId": "bfa33fb9-1ab1-4f21-ca1c-7090cfe56689",
        "colab": {
          "base_uri": "https://localhost:8080/",
          "height": 34
        }
      },
      "source": [
        "pretrained_weights = modelvector.wv.syn0\n",
        "vocab_size, emdedding_size = pretrained_weights.shape\n",
        "print('Result embedding shape:', pretrained_weights.shape)\n",
        "\n",
        "def word2idx(word):\n",
        "  return modelvector.wv.vocab[word].index\n",
        "def idx2word(idx):\n",
        "  return modelvector.wv.index2word[idx]"
      ],
      "execution_count": 0,
      "outputs": [
        {
          "output_type": "stream",
          "text": [
            "Result embedding shape: (399723, 100)\n"
          ],
          "name": "stdout"
        }
      ]
    },
    {
      "cell_type": "code",
      "metadata": {
        "id": "8XmCUWHjyac5",
        "colab_type": "code",
        "outputId": "4c0c5452-1f12-4c78-8f89-389e29a22c4d",
        "colab": {
          "base_uri": "https://localhost:8080/",
          "height": 34
        }
      },
      "source": [
        "pretrained_weights_test = modelvectortest.wv.syn0\n",
        "vocab_size_test, emdedding_size_test = pretrained_weights_test.shape\n",
        "print('Result embedding shape:', pretrained_weights_test.shape)\n",
        "\n",
        "def word2idx_test(word):\n",
        "  return modelvectortest.wv.vocab[word].index\n",
        "def idx2word_test(idx):\n",
        "  return modelvectortest.wv.index2word[idx]"
      ],
      "execution_count": 0,
      "outputs": [
        {
          "output_type": "stream",
          "text": [
            "Result embedding shape: (139164, 100)\n"
          ],
          "name": "stdout"
        }
      ]
    },
    {
      "cell_type": "code",
      "metadata": {
        "id": "P83F2BE2yafk",
        "colab_type": "code",
        "outputId": "2e97467f-8167-4f13-ec4f-7443220e6e76",
        "colab": {
          "base_uri": "https://localhost:8080/",
          "height": 34
        }
      },
      "source": [
        "col=len(max(NewdataSet,key=len))\n",
        "row=len(X_train)\n",
        "print (col)\n",
        "trainXf = np.zeros([len(X_train), col], dtype=np.int32)\n",
        "train_y = np.zeros([len(y_train)], dtype=np.int32)\n",
        "\n",
        "testXf = np.zeros([len(X_test), col], dtype=np.int32)\n",
        "test_y = np.zeros([len(y_test)], dtype=np.int32)\n",
        "\n",
        "for sublist in range(len(X_train)): \n",
        "    for val in range(len(X_train[sublist])):\n",
        "     trainXf[sublist][val]=word2idx(X_train[sublist][val]) \n",
        "      # print (word2idx(X_train[sublist][val])  )\n",
        "\n",
        "for sublist in range(len(X_test)): \n",
        "    for val in range(len(X_test[sublist])):\n",
        "     testXf[sublist][val]=word2idx_test(X_test[sublist][val]) \n",
        "      # print (word2idx(X_train[sublist][val])  )\n"
      ],
      "execution_count": 0,
      "outputs": [
        {
          "output_type": "stream",
          "text": [
            "208\n"
          ],
          "name": "stdout"
        }
      ]
    },
    {
      "cell_type": "code",
      "metadata": {
        "id": "VjBPX0nqyhNt",
        "colab_type": "code",
        "outputId": "a8a6bf37-60c1-4382-ada0-4d7c7b32e71b",
        "colab": {
          "base_uri": "https://localhost:8080/",
          "height": 87
        }
      },
      "source": [
        "print(trainXf.shape)\n",
        "print (train_y.shape)\n",
        "\n",
        "print (testXf.shape)\n",
        "print (y_test.shape)\n",
        "\n",
        "#print (y_test.head)\n",
        "#print(\"asdd\")\n",
        "#print (testXf.head)\n"
      ],
      "execution_count": 0,
      "outputs": [
        {
          "output_type": "stream",
          "text": [
            "(360140, 208)\n",
            "(360140,)\n",
            "(90036, 208)\n",
            "(90036,)\n"
          ],
          "name": "stdout"
        }
      ]
    },
    {
      "cell_type": "code",
      "metadata": {
        "id": "aA7e3fJNC_Yh",
        "colab_type": "code",
        "colab": {}
      },
      "source": [
        "import csv\n",
        "# name of csv file  \n",
        "filename = \"trainXf.csv\"\n",
        "    \n",
        "# writing to csv file  \n",
        "with open(filename, 'w') as csvfile:  \n",
        "    # creating a csv writer object  \n",
        "    csvwriter = csv.writer(csvfile)  \n",
        "    csvwriter.writerows(trainXf) \n",
        "\n",
        "filename = \"testXf.csv\"\n",
        "    \n",
        "# writing to csv file  \n",
        "with open(filename, 'w') as csvfile:  \n",
        "    # creating a csv writer object  \n",
        "    csvwriter = csv.writer(csvfile)  \n",
        "    csvwriter.writerows(testXf) \n",
        "\n"
      ],
      "execution_count": 0,
      "outputs": []
    },
    {
      "cell_type": "code",
      "metadata": {
        "id": "sPuFlz6dc-NV",
        "colab_type": "code",
        "colab": {}
      },
      "source": [
        "#start the code from here if running for the second time\n",
        "allurlcsv = pd.read_csv(\"trainXf.csv\",header=None)\n",
        "trainXf = pd.DataFrame(allurlcsv)\n",
        "allurlcsv = pd.read_csv(\"testXf.csv\",header=None)\n",
        "testXf = pd.DataFrame(allurlcsv)\n",
        "\n",
        "train_y=y_train\n",
        "test_y= y_test"
      ],
      "execution_count": 0,
      "outputs": []
    },
    {
      "cell_type": "code",
      "metadata": {
        "id": "PB64brcjJXJ3",
        "colab_type": "code",
        "outputId": "b9e31ed4-12f4-4ad5-e27d-f690447cd35a",
        "colab": {
          "base_uri": "https://localhost:8080/",
          "height": 87
        }
      },
      "source": [
        "print(trainXf.shape)\n",
        "print (train_y.shape)\n",
        "\n",
        "print (testXf.shape)\n",
        "print (y_test.shape)\n"
      ],
      "execution_count": 0,
      "outputs": [
        {
          "output_type": "stream",
          "text": [
            "(360140, 208)\n",
            "(360140,)\n",
            "(90036, 208)\n",
            "(90036,)\n"
          ],
          "name": "stdout"
        }
      ]
    },
    {
      "cell_type": "code",
      "metadata": {
        "id": "WmteXJlKHMdy",
        "colab_type": "code",
        "colab": {}
      },
      "source": [
        "from sklearn.model_selection import train_test_split\n",
        "import pandas as pd\n",
        "import chardet\n",
        "from sklearn import model_selection\n",
        "from sklearn.ensemble import RandomForestClassifier\n",
        "from sklearn.model_selection import cross_val_score\n",
        "from sklearn.metrics import classification_report, confusion_matrix\n",
        "\n",
        "\n",
        "# random forest model creation\n",
        "rfc1 = RandomForestClassifier(n_estimators=200)\n",
        "rfc1.fit(trainXf,train_y)\n",
        "\n",
        "# predictions\n",
        "rfc_predict = rfc1.predict(testXf)\n"
      ],
      "execution_count": 0,
      "outputs": []
    },
    {
      "cell_type": "code",
      "metadata": {
        "id": "1P6_ALvqoLNS",
        "colab_type": "code",
        "outputId": "fb7482cb-0f34-4807-a498-d2946152d93c",
        "colab": {
          "base_uri": "https://localhost:8080/",
          "height": 386
        }
      },
      "source": [
        "\n",
        "print(\"=== Confusion Matrix ===\")\n",
        "print(confusion_matrix(test_y, rfc_predict))\n",
        "print('\\n')\n",
        "print(\"=== Classification Report ===\")\n",
        "print(classification_report(test_y, rfc_predict))\n",
        "print('\\n')\n",
        "print(\"=== All AUC Scores ===\")\n",
        "#print(rfc_cv_score)\n",
        "print('\\n')\n",
        "print(\"=== Mean AUC Score ===\")\n",
        "#print(\"Mean AUC Score - Random Forest: \", rfc_cv_score.mean())"
      ],
      "execution_count": 0,
      "outputs": [
        {
          "output_type": "stream",
          "text": [
            "=== Confusion Matrix ===\n",
            "[[ 88   0]\n",
            " [  0 112]]\n",
            "\n",
            "\n",
            "=== Classification Report ===\n",
            "              precision    recall  f1-score   support\n",
            "\n",
            "           0       1.00      1.00      1.00        88\n",
            "           1       1.00      1.00      1.00       112\n",
            "\n",
            "    accuracy                           1.00       200\n",
            "   macro avg       1.00      1.00      1.00       200\n",
            "weighted avg       1.00      1.00      1.00       200\n",
            "\n",
            "\n",
            "\n",
            "=== All AUC Scores ===\n",
            "\n",
            "\n",
            "=== Mean AUC Score ===\n"
          ],
          "name": "stdout"
        }
      ]
    },
    {
      "cell_type": "code",
      "metadata": {
        "id": "hNcoRnzzLluG",
        "colab_type": "code",
        "outputId": "dd91058e-5e4e-4f4e-ff6a-22935a02f54c",
        "colab": {
          "base_uri": "https://localhost:8080/",
          "height": 281
        }
      },
      "source": [
        "import pandas as pd\n",
        "import numpy as np\n",
        "import sklearn\n",
        "from sklearn import preprocessing\n",
        "from sklearn.model_selection import train_test_split\n",
        "from sklearn.preprocessing import StandardScaler\n",
        "from sklearn.neural_network import MLPClassifier\n",
        "from sklearn.metrics import classification_report, confusion_matrix\n",
        "from sklearn.metrics import roc_auc_score\n",
        "from sklearn.model_selection import cross_val_score\n",
        "\n",
        "#testXf.fillna(testXf.mean())\n",
        "#trainXf.fillna(trainXf.mean())\n",
        "#test_y.fillna(test_y.mean())\n",
        "#train_y.fillna(train_y.mean())\n",
        "\n",
        "#dropping\n",
        "#X_test.drop(['url_domain_len', 'url_path_len'], axis=1)\n",
        "#X_train.drop(['url_domain_len', 'url_path_len'], axis=1)\n",
        "\n",
        "# Feature scaling\n",
        "scaler = StandardScaler()\n",
        "scaler.fit(trainXf)\n",
        "trainXf = scaler.transform(trainXf)\n",
        "testXf = scaler.transform(testXf)\n",
        "\n",
        "# Finally for the MLP- Multilayer Perceptron\n",
        "mlp = MLPClassifier(hidden_layer_sizes=(10, 20, 10), max_iter=1000)\n",
        "mlp.fit(trainXf,train_y)\n",
        "\n",
        "predictions = mlp.predict(testXf)\n",
        "\n",
        "#mlp_cv_score = cross_val_score(mlp, X, y, cv=10, scoring='roc_auc')\n",
        "\n",
        "# Last thing: evaluation of algorithm performance in classifying flowers\n",
        "print(\"=== Confusion Matrix ===\")\n",
        "print(confusion_matrix(test_y,predictions))\n",
        "print('\\n')\n",
        "print(\"=== Classification Report ===\")\n",
        "print(classification_report(test_y,predictions))"
      ],
      "execution_count": 0,
      "outputs": [
        {
          "output_type": "stream",
          "text": [
            "=== Confusion Matrix ===\n",
            "[[ 88   0]\n",
            " [  0 112]]\n",
            "\n",
            "\n",
            "=== Classification Report ===\n",
            "              precision    recall  f1-score   support\n",
            "\n",
            "           0       1.00      1.00      1.00        88\n",
            "           1       1.00      1.00      1.00       112\n",
            "\n",
            "    accuracy                           1.00       200\n",
            "   macro avg       1.00      1.00      1.00       200\n",
            "weighted avg       1.00      1.00      1.00       200\n",
            "\n"
          ],
          "name": "stdout"
        }
      ]
    },
    {
      "cell_type": "code",
      "metadata": {
        "id": "27KOJzcuHMvc",
        "colab_type": "code",
        "outputId": "9e458876-b9a8-4398-d5ba-942ef8917d0e",
        "colab": {
          "base_uri": "https://localhost:8080/",
          "height": 105
        }
      },
      "source": [
        "from sklearn.naive_bayes import GaussianNB\n",
        "\n",
        "NB = GaussianNB()\n",
        "NB.fit(trainXf, train_y)\n",
        "y_predict = NB.predict(testXf)\n",
        "print('\\n')\n",
        "print(\"Accuracy NB: {:.2f}\".format(NB.score(testXf, test_y)))\n",
        "print('\\n')"
      ],
      "execution_count": 0,
      "outputs": [
        {
          "output_type": "stream",
          "text": [
            "\n",
            "\n",
            "Accuracy NB: 0.99\n",
            "\n",
            "\n"
          ],
          "name": "stdout"
        }
      ]
    },
    {
      "cell_type": "markdown",
      "metadata": {
        "id": "5H0Z3MlPNAXC",
        "colab_type": "text"
      },
      "source": [
        "#Use this code for naive bayes. (train and test variables idk kon se likhne hain, wo edit kr k run krna hai ye)"
      ]
    },
    {
      "cell_type": "code",
      "metadata": {
        "id": "TSn15ieSNAoh",
        "colab_type": "code",
        "outputId": "70af35c2-393d-4e2f-8284-3028da87c2f1",
        "colab": {
          "base_uri": "https://localhost:8080/",
          "height": 54
        }
      },
      "source": [
        "'''\n",
        "from sklearn.naive_bayes import MultinomialNB\n",
        "from sklearn.metrics import accuracy_score\n",
        "from sklearn.metrics import confusion_matrix\n",
        "from sklearn.metrics import classification_report\n",
        "\n",
        "nb = MultinomialNB()\n",
        "nb.fit(trainXf, y_train)\n",
        "y_pred = nb.predict(testXf)\n",
        "\n",
        "print(accuracy_score(y_test, y_pred))\n",
        "\n",
        "cm = confusion_matrix(y_test, y_pred)\n",
        "print(cm)\n",
        "\n",
        "print(classification_report(y_test, y_pred))\n",
        "'''"
      ],
      "execution_count": 0,
      "outputs": [
        {
          "output_type": "execute_result",
          "data": {
            "text/plain": [
              "'\\nfrom sklearn.naive_bayes import MultinomialNB\\nfrom sklearn.metrics import accuracy_score\\nfrom sklearn.metrics import confusion_matrix\\nfrom sklearn.metrics import classification_report\\n\\nnb = MultinomialNB()\\nnb.fit(trainXf, y_train)\\ny_pred = nb.predict(testXf)\\n\\nprint(accuracy_score(y_test, y_pred))\\n\\ncm = confusion_matrix(y_test, y_pred)\\nprint(cm)\\n\\nprint(classification_report(y_test, y_pred))\\n'"
            ]
          },
          "metadata": {
            "tags": []
          },
          "execution_count": 24
        }
      ]
    },
    {
      "cell_type": "code",
      "metadata": {
        "id": "7jcix6OQHM4k",
        "colab_type": "code",
        "outputId": "e1463153-2c7f-47c5-aa84-f53668d65d55",
        "colab": {
          "base_uri": "https://localhost:8080/",
          "height": 87
        }
      },
      "source": [
        "print(trainXf.shape)\n",
        "print (train_y.shape)\n",
        "\n",
        "print (testXf.shape)\n",
        "print (y_test.shape)\n",
        "train_y=y_train\n",
        "test_y= y_test"
      ],
      "execution_count": 0,
      "outputs": [
        {
          "output_type": "stream",
          "text": [
            "(799, 33)\n",
            "(799,)\n",
            "(200, 33)\n",
            "(200,)\n"
          ],
          "name": "stdout"
        }
      ]
    },
    {
      "cell_type": "code",
      "metadata": {
        "id": "J_Hfd0TJHKKU",
        "colab_type": "code",
        "outputId": "8fcacf76-19aa-4459-a632-1aa39d44550b",
        "colab": {
          "base_uri": "https://localhost:8080/",
          "height": 122
        }
      },
      "source": [
        "train_y[0:5]"
      ],
      "execution_count": 0,
      "outputs": [
        {
          "output_type": "execute_result",
          "data": {
            "text/plain": [
              "331    1\n",
              "454    1\n",
              "568    0\n",
              "619    0\n",
              "743    0\n",
              "Name: label, dtype: int64"
            ]
          },
          "metadata": {
            "tags": []
          },
          "execution_count": 41
        }
      ]
    },
    {
      "cell_type": "code",
      "metadata": {
        "id": "7sF5BRewyhQQ",
        "colab_type": "code",
        "outputId": "7215716a-5008-4e82-91ba-ec722aeead1f",
        "colab": {
          "base_uri": "https://localhost:8080/",
          "height": 263
        }
      },
      "source": [
        "from keras.layers.recurrent import LSTM\n",
        "from keras.layers.embeddings import Embedding\n",
        "from keras.models import Model, Sequential\n",
        "from keras.layers import Dense, Activation\n",
        "\n",
        "\n",
        "model = Sequential()\n",
        "model.add(Embedding(input_dim=vocab_size, output_dim=emdedding_size, weights=[pretrained_weights]))\n",
        "#model.add(Dropout(0.2))\n",
        "model.add(LSTM(units=emdedding_size))\n",
        "\n",
        "model.add(Dense(1, activation='sigmoid'))\n",
        "\n",
        "\n",
        "#model.add(Dropout(0.2))\n",
        "#model.add(Dense(units=vocab_size))\n",
        "\n",
        "#model.add(Dense(4, activation='relu', kernel_initializer='random_normal', input_dim=8))\n",
        "#model.add(Dense(4, activation='relu', kernel_initializer='random_normal'))\n",
        "#model.add(Activation('softmax'))h\n",
        "#model.add(Dense(60, input_dim=60, activation='relu'))\n",
        "#model.add(Dense(units=1))\n",
        "\n",
        "#model.add(Activation('sigmoid'))\n",
        "#model.compile(optimizer='adam', loss='sparse_categorical_crossentropy')\n",
        "model.compile(loss='binary_crossentropy', metrics=['accuracy'], optimizer='adam')\n",
        "'''\n",
        "model.add(LSTM(100))\n",
        "model.add(Dense(1, activation='sigmoid'))\n",
        "model.compile(loss='binary_crossentropy', optimizer='adam', metrics=['accuracy'])\n",
        "print(model.summary())\n",
        "'''\n",
        "model.summary()"
      ],
      "execution_count": 0,
      "outputs": [
        {
          "output_type": "stream",
          "text": [
            "Model: \"sequential_7\"\n",
            "_________________________________________________________________\n",
            "Layer (type)                 Output Shape              Param #   \n",
            "=================================================================\n",
            "embedding_7 (Embedding)      (None, None, 100)         39972300  \n",
            "_________________________________________________________________\n",
            "lstm_6 (LSTM)                (None, 100)               80400     \n",
            "_________________________________________________________________\n",
            "dense_5 (Dense)              (None, 1)                 101       \n",
            "=================================================================\n",
            "Total params: 40,052,801\n",
            "Trainable params: 40,052,801\n",
            "Non-trainable params: 0\n",
            "_________________________________________________________________\n"
          ],
          "name": "stdout"
        }
      ]
    },
    {
      "cell_type": "code",
      "metadata": {
        "id": "543kUqRn3mRQ",
        "colab_type": "code",
        "outputId": "b3e94f77-eb42-4f64-c96c-d2809739962c",
        "colab": {
          "base_uri": "https://localhost:8080/",
          "height": 105
        }
      },
      "source": [
        "# fit the model\n",
        "model.fit(np.array(trainXf),np.array(y_train), epochs=10, verbose=1,validation_split=0.2,workers=8)\n"
      ],
      "execution_count": 0,
      "outputs": [
        {
          "output_type": "stream",
          "text": [
            "Train on 288112 samples, validate on 72028 samples\n",
            "Epoch 1/10\n",
            "288112/288112 [==============================] - 1363s 5ms/step - loss: 0.5422 - accuracy: 0.7682 - val_loss: 0.5420 - val_accuracy: 0.7683\n",
            "Epoch 2/10\n",
            "111488/288112 [==========>...................] - ETA: 13:09 - loss: 0.5398 - accuracy: 0.7698"
          ],
          "name": "stdout"
        }
      ]
    },
    {
      "cell_type": "code",
      "metadata": {
        "id": "UCGukbZOyqrD",
        "colab_type": "code",
        "outputId": "8e2c2b68-1597-4ee1-ea7a-0c8213ad539d",
        "colab": {
          "base_uri": "https://localhost:8080/",
          "height": 52
        }
      },
      "source": [
        "# evaluate the model\n",
        "loss, accuracy = model.evaluate(np.array(testXf) , np.array(test_y), verbose=0)\n",
        "print('Accuracy: %f' % (accuracy*100))\n",
        "'''\n",
        "p = model.predict(np.array(testXf))\n",
        "#why is it not over fitting, why would it?too much training, 100 oekp ocsisnt much training.lets test itruk\n",
        "\n",
        "\n",
        "\n",
        "\n",
        "good=[]\n",
        "for i in p:\n",
        "  if i <0.5:\n",
        "     good.append(0)\n",
        "    \n",
        "  if i >0.5:\n",
        "    good.append(1)\n",
        "\n",
        "count=0\n",
        "g=0\n",
        "b=0\n",
        "for i in good:\n",
        "  if i == y_test.iloc[count]:\n",
        "    g=g+1\n",
        "  if i != y_test.iloc[count]:\n",
        "    b=b+1\n",
        "  count+=1\n",
        "\n",
        "  \n",
        "print (\"good\",g)\n",
        "print (\"bad\",b)\n",
        "print ((g/(g+b))*100)\n",
        "'''\n",
        "print ('loss of' , loss)"
      ],
      "execution_count": 0,
      "outputs": [
        {
          "output_type": "stream",
          "text": [
            "Accuracy: 97.000003\n",
            "loss of 0.12111038506031037\n"
          ],
          "name": "stdout"
        }
      ]
    },
    {
      "cell_type": "code",
      "metadata": {
        "id": "cMcXWiyLYkwR",
        "colab_type": "code",
        "colab": {}
      },
      "source": [
        "p=model.predict(testXf)\n",
        "count1=0\n",
        "count0=0\n",
        "for i in p:\n",
        "  if i ==1:\n",
        "    count1+=1\n",
        "\n",
        "  if i==0:\n",
        "    count0+=1\n",
        "\n",
        "print (count1,\" \", count0,\" \", count1+count0)\n",
        "\n",
        "print (p)"
      ],
      "execution_count": 0,
      "outputs": []
    },
    {
      "cell_type": "code",
      "metadata": {
        "id": "zIqMwtx2Qn-u",
        "colab_type": "code",
        "colab": {}
      },
      "source": [
        "# predict probabilities for test set\n",
        "yhat_probs = model.predict(testXf, verbose=0)\n",
        "# predict crisp classes for test set\n",
        "yhat_classes = model.predict_classes(testXf, verbose=0)"
      ],
      "execution_count": 0,
      "outputs": []
    },
    {
      "cell_type": "code",
      "metadata": {
        "id": "5iStUzGjQoET",
        "colab_type": "code",
        "colab": {}
      },
      "source": [
        "# reduce to 1d array\n",
        "yhat_probs = yhat_probs[:, 0]\n",
        "yhat_classes = yhat_classes[:, 0]"
      ],
      "execution_count": 0,
      "outputs": []
    },
    {
      "cell_type": "code",
      "metadata": {
        "id": "II99DoWYRMq3",
        "colab_type": "code",
        "colab": {}
      },
      "source": [
        "from sklearn.metrics import confusion_matrix,roc_curve,roc_auc_score,cohen_kappa_score,f1_score,recall_score,precision_score,accuracy_score\n"
      ],
      "execution_count": 0,
      "outputs": []
    },
    {
      "cell_type": "code",
      "metadata": {
        "id": "fGAfN2ZFQoI4",
        "colab_type": "code",
        "outputId": "0db9606f-5809-408b-c857-2181591d9f21",
        "colab": {
          "base_uri": "https://localhost:8080/",
          "height": 105
        }
      },
      "source": [
        "# accuracy: (tp + tn) / (p + n)\n",
        "accuracy = accuracy_score(test_y, yhat_classes)\n",
        "print('Accuracy: %f' % accuracy)\n",
        "# precision tp / (tp + fp)\n",
        "precision = precision_score(test_y, yhat_classes)\n",
        "print('Precision: %f' % precision)\n",
        "# recall: tp / (tp + fn)\n",
        "recall = recall_score(test_y, yhat_classes)\n",
        "print('Recall: %f' % recall)\n",
        "# f1: 2 tp / (2 tp + fp + fn)\n",
        "f1 = f1_score(test_y, yhat_classes)\n",
        "print('F1 score: %f' % f1)\n",
        "# kappa\n",
        "kappa = cohen_kappa_score(test_y, yhat_classes)\n",
        "print('Cohens kappa: %f' % kappa)\n",
        "# ROC AUC\n",
        "#auc = roc_auc_score(test_y, yhat_probs)\n",
        "#print('ROC AUC: %f' % auc)\n"
      ],
      "execution_count": 0,
      "outputs": [
        {
          "output_type": "stream",
          "text": [
            "Accuracy: 0.970000\n",
            "Precision: 0.949153\n",
            "Recall: 1.000000\n",
            "F1 score: 0.973913\n",
            "Cohens kappa: 0.938675\n"
          ],
          "name": "stdout"
        }
      ]
    },
    {
      "cell_type": "code",
      "metadata": {
        "id": "AL0nRMm_z2m_",
        "colab_type": "code",
        "outputId": "96ab02c6-cb54-4df8-8d0e-acb016b47671",
        "colab": {
          "base_uri": "https://localhost:8080/",
          "height": 314
        }
      },
      "source": [
        "import matplotlib.pyplot as plt\n",
        "ns_probs=[0 for _ in range(len(y_test))]\n",
        "# # keep probabilities for the positive outcome only\n",
        "# lr_probs = yhat_probs[:, 1]\n",
        "# calculate scores\n",
        "ns_auc = roc_auc_score(test_y, ns_probs)\n",
        "lr_auc = roc_auc_score(test_y, yhat_probs)\n",
        "\n",
        "# summarize scores\n",
        "print('Abnormal: ROC AUC=%.3f' % (ns_auc))\n",
        "print('Normal: ROC AUC=%.3f' % (lr_auc))\n",
        "\n",
        "# calculate roc curves\n",
        "\n",
        "ns_fpr, ns_tpr, _ = roc_curve(test_y, ns_probs)\n",
        "lr_fpr, lr_tpr, _ = roc_curve(test_y, yhat_probs)\n",
        "# plot the roc curve for the model\n",
        "plt.plot(ns_fpr, ns_tpr, linestyle='--',label=ns_auc)\n",
        "plt.plot(lr_fpr, lr_tpr, marker='*',label=lr_auc)\n",
        "# axis labels\n",
        "plt.xlabel('False Positive Rate')\n",
        "plt.ylabel('True Positive Rate')\n",
        "# show the legend\n",
        "plt.legend()\n",
        "# show the plot\n",
        "plt.show()"
      ],
      "execution_count": 0,
      "outputs": [
        {
          "output_type": "stream",
          "text": [
            "Abnormal: ROC AUC=0.500\n",
            "Normal: ROC AUC=0.999\n"
          ],
          "name": "stdout"
        },
        {
          "output_type": "display_data",
          "data": {
            "image/png": "[encoded data removed]",
            "text/plain": [
              "<Figure size 432x288 with 1 Axes>"
            ]
          },
          "metadata": {
            "tags": [],
            "needs_background": "light"
          }
        }
      ]
    },
    {
      "cell_type": "code",
      "metadata": {
        "id": "6PnBMMtNStVY",
        "colab_type": "code",
        "outputId": "4cfdcf0e-c29f-478e-cecf-4b26366aa603",
        "colab": {
          "base_uri": "https://localhost:8080/",
          "height": 52
        }
      },
      "source": [
        "# confusion matrix\n",
        "cf_matrix = confusion_matrix(test_y, yhat_classes)\n",
        "print(cf_matrix)\n",
        "df_cm = pd.DataFrame(cf_matrix, \n",
        "  index = [ 'Malicious', 'Benign'],\n",
        "  columns = ['Malicious', 'Benign'])\n",
        "# sns.heatmap(df_cm, annot=True)"
      ],
      "execution_count": 0,
      "outputs": [
        {
          "output_type": "stream",
          "text": [
            "[[ 82   6]\n",
            " [  0 112]]\n"
          ],
          "name": "stdout"
        }
      ]
    },
    {
      "cell_type": "code",
      "metadata": {
        "id": "i7d6IGQ5StYQ",
        "colab_type": "code",
        "outputId": "a137f8a6-0e53-4f63-f567-3b899b5f092c",
        "colab": {
          "base_uri": "https://localhost:8080/",
          "height": 286
        }
      },
      "source": [
        "import seaborn as sns\n",
        "\n",
        "cmap = sns.cubehelix_palette(light=1, as_cmap=True)\n",
        "# sns.heatmap(df_cm/np.sum(df_cm), annot=True, fmt='.2%', cmap='Blues') #for better look divide by 2\n",
        "sns.heatmap(df_cm/np.sum(df_cm)*100, annot=True, vmin=0.0, vmax=100.0, fmt='.2f', cmap=cmap)\n"
      ],
      "execution_count": 0,
      "outputs": [
        {
          "output_type": "execute_result",
          "data": {
            "text/plain": [
              "<matplotlib.axes._subplots.AxesSubplot at 0x7ffa545f4da0>"
            ]
          },
          "metadata": {
            "tags": []
          },
          "execution_count": 58
        },
        {
          "output_type": "display_data",
          "data": {
            "image/png": "[encoded data removed]",
            "text/plain": [
              "<Figure size 432x288 with 2 Axes>"
            ]
          },
          "metadata": {
            "tags": [],
            "needs_background": "light"
          }
        }
      ]
    }
  ]
}